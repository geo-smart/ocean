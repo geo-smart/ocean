{
 "cells": [
  {
   "cell_type": "markdown",
   "metadata": {},
   "source": [
    "# Introduction\n",
    "\n",
    "\n",
    "Data are pulled in as large files for ingest. These are external to the\n",
    "repo folder so as not to bog it down (as repo size is constrained).\n",
    "From this point there is an *ingest* process and a second process \n",
    "described below under the heading **Profiles**. \n",
    "\n",
    "\n",
    "To focus on *ingest* for a moment: The idea is to streamline the source\n",
    "datasets by reducing clutter and cutting out a time window, say one month.\n",
    "This notebook will start by considering a two year time range from \n",
    "1-JAN-2021 through 31-DEC-2022. From there we will focus on shorter\n",
    "sub-ranges, typically a month in duration or less.\n",
    "\n",
    "\n",
    "\n",
    "### Inbound data structure\n",
    "\n",
    "\n",
    "\n",
    "There are two levels of source data time resolution: 1-minute average sampling\n",
    "and full resolution sampling; which amounts to about 1 sample per second. \n",
    "The 1-minute-per-sample data will be smoother via \n",
    "averaging with the tradeoff of coarser depth resolution.\n",
    "\n",
    "\n",
    "Again: Inbound data from OOI is kept outside this repo: In its own `/data/rca` \n",
    "folder. This inbound data folder structure is as follows:\n",
    "\n",
    "\n",
    "\n",
    "```\n",
    "$HOME/../data/rca/\n",
    "                  OregonSlopeBase/\n",
    "                                  platform/                (pc01a)\n",
    "                                  profiler/                (sf01a)\n",
    "                                           par/    \n",
    "                                           do/\n",
    "                                           vel/\n",
    "                                           ctd/\n",
    "                                           fluor/\n",
    "                                           nitrate/\n",
    "                                           pco2/\n",
    "                                           ph/\n",
    "                                           spkir/\n",
    "                                           fullres_ctd/ etcetera\n",
    "                  OregonOffshore/\n",
    "                                  platform/                (pc01b)\n",
    "                                  profiler/                (sf01b)\n",
    "                  AxialBase/ \n",
    "                                  platform/               (pc03a)\n",
    "                                  profiler/               (sf03a)\n",
    "\n",
    "```\n",
    "\n",
    "Please note that 1-minute-sample data goes into folders with no prefix; and \n",
    "full resolution (1-second-sample) data folders have the `fullres_` prefix \n",
    "as in `fullres_ctd`.\n",
    "\n",
    "\n",
    "There are two resources for shallow profiler data:\n",
    "\n",
    "\n",
    "- [Ocean Observatories Initiative **Data Explorer**](https://dataexplorer.oceanobservatories.org/)\n",
    "- [Interactive Oceans **Data Portal**](https://interactiveoceans.washington.edu) which is specific to the Regional Cabled Array\n",
    "\n",
    "\n",
    "\n",
    "\n",
    "### Terms used\n",
    "\n",
    "\n",
    "* Regional Cabled Array (RCA): A cabled observatory on the sea floor and in select locations rising up through the water column: off the coast of Oregon\n",
    "* Site: A location in the RCA\n",
    "* Platform: A mechanical structure -- static or mobile -- at a site\n",
    "* Instrument: A device fastened to a platform that carries one or more sensors\n",
    "* Sensor: A device that measures some aspect of the ocean like pH or temperature\n",
    "* Stream: Data produced by a sensor as part of an instrument located on a platform at a site in the RCA\n",
    "* Profiler 'Oregon Slope Base'\n",
    "* Profiler 'Axial Base' PN3A \n",
    "* Profiler 'Oregon Offshore' (shared with the OSU Endurance array)\n",
    "\n",
    "\n",
    "#### Sensor dictionary with abbreviations\n",
    "\n",
    "\n",
    "- This table is alphabetized by short abbreviation for the moment\n",
    "\n",
    "\n",
    "- The instrument name corresponds to the folder structure given above\n",
    "\n",
    "\n",
    "- Spectral irradiance is abbreviated `spkir` in the OOI nomenclature and this\n",
    "is retained here. The instrument brings in seven spectral channels (sensors)\n",
    "with wavelengths in *nm* as indicated.\n",
    "\n",
    "\n",
    "```\n",
    "Short     Sensor                Name used     Instrument     Sensor operates\n",
    "Abbrev.                         here          folder name\n",
    "-----     ------                -------       ----------     -----------\n",
    "A         Chlorophyll-A         chlora        fluor          continuous\n",
    "B         backscatter           backscatter   fluor          continuous\n",
    "C         CDOM                  cdom          fluor          continuous\n",
    "D         Density               density       ctd            continuous\n",
    "E[]       Spec'r optical abs    oa            spec           ? (83 channels)\n",
    "F[]       Spec'r beam atten     ba            spec\n",
    "G         pCO2                  pco2          pco2           midnight/noon descent\n",
    "H         pH                    ph            ph             midnight/noon descent\n",
    "I         Spectral Irradiance   412nm         spkir          ?\n",
    "                                443nm\n",
    "                                490nm\n",
    "                                510nm\n",
    "                                555nm\n",
    "                                620nm\n",
    "                                683nm\n",
    "K         Conductivity          conductivity  ctd            continuous\n",
    "N         Nitrate               nitrate       nitrate        midnight/noon ascent\n",
    "P         PAR                   par           par            continuous\n",
    "Q         pressure              pressure      ctd            continuous\n",
    "O         dissolved oxygen      do            do             continuous\n",
    "S         salinity              salinity      ctd            continuous\n",
    "T         temperature           temp          ctd            continuous\n",
    "U         velocity east         veast         current        continuous:\n",
    "V         velocity north        vnorth                           from platform\n",
    "W         velocity up           vup                              looking up\n",
    "```"
   ]
  },
  {
   "cell_type": "markdown",
   "metadata": {},
   "source": [
    "### Data download\n",
    "\n",
    "\n",
    "As noted above: [OOI](https://oceanobservatories.org) \n",
    "provides data access via the [Data Explorer](https://dataexplorer.oceanobservatories.org/).\n",
    "An alternative resource particular to the *OOI cabled array* is the\n",
    "[Cabled Array data server](https://interactiveoceans.washington.edu).\n",
    "This site is oriented towards built-in data exploration and is very educator-friendly. \n",
    "\n",
    "\n",
    "#### Example download\n",
    "\n",
    "\n",
    "- [Data access page in the Data Explorer](https://dataexplorer.oceanobservatories.org/#go-to-data-access)\n",
    "- Access Array Data, Oregon Margin, Profiling Assets, All Instrument Types, All Parameters, Go\n",
    "    - A very dense page with charts, tabs, multiple scroll bars and so forth\n",
    "    - Exploration of the various tabs encouraged\n",
    "        - **Data**, **Inventory**, **Downloads**, **Annotations**, **Deployments**\n",
    "    - > **Downloads** tab\n",
    "    - Full resolution data: 1 second per sample\n",
    "        - Choose link '*full resolution downloads*'\n",
    "        - Page of fluorometer datasets in deployment sequence: time ranges shown\n",
    "        - Select Downloads > THREDDS Catalog > Dataset > page listing files\n",
    "        - Deployment 8, FLORT for the triplet\n",
    "        - Check the time range in the filename for best match to March 2021\n",
    "        - Click to go to yet another page, this one for \"ACCESS\" and multiple choices\n",
    "            - Select HTTPServer to download the NetCDF data file: 600+ MB\n",
    "    - 1Min resolution: 1 minute per sample\n",
    "        - Green **Download** button for various streams / sensors \n",
    "        - Three format options: ERDDAP (+ 3 sub-options), CSV and NetCDF\n",
    "            - NetCDF URL gives a shareable download link\n",
    "            - NetCDF **Download** button > 1Min downsampled data\n",
    "                - These datasets extend over the full OOI program duration: 2014 to present\n",
    "            - Data description text + chart symbol (left) produces a curtain plot\n",
    "\n",
    "\n",
    "Full resolution data is sub-divided into consecutive time ranges called \"deployments\". \n",
    "The resulting NetCDF files have these distinctions compared to the 1Min data:\n",
    "\n",
    "\n",
    "- Data is sampled at about one sample per second\n",
    "- Sensors are combined in NetCDF files\n",
    "    - For example a CTD file includes salinity, temperature, pressure, density and conductivity\n",
    "- The data files are much larger on average\n",
    "- The sample dimension is `obs` (observation number) rather than `row`\n",
    "    - However the swap procedure is the same: Swap in `time`\n"
   ]
  },
  {
   "cell_type": "markdown",
   "metadata": {},
   "source": [
    "#### Code\n",
    "\n",
    "\n",
    "This notebook defers some functions to the module file `data.py`."
   ]
  },
  {
   "cell_type": "code",
   "execution_count": 1,
   "metadata": {
    "tags": []
   },
   "outputs": [
    {
     "name": "stdout",
     "output_type": "stream",
     "text": [
      "\n",
      "Jupyter Notebook running Python 3\n"
     ]
    }
   ],
   "source": [
    "import os, sys, time, glob, warnings\n",
    "from os.path import join as joindir\n",
    "from IPython.display import clear_output\n",
    "from matplotlib import pyplot as plt\n",
    "from matplotlib import colors as mplcolors\n",
    "import numpy as np, pandas as pd, xarray as xr\n",
    "from numpy import datetime64 as dt64, timedelta64 as td64\n",
    "\n",
    "from data import *\n",
    "\n",
    "warnings.filterwarnings('ignore')\n",
    "\n",
    "def doy(theDatetime): return 1 + int((theDatetime - dt64(str(theDatetime)[0:4] + '-01-01')) / td64(1, 'D'))\n",
    "def dt64_from_doy(year, doy): return dt64(str(year) + '-01-01') + td64(doy-1, 'D')\n",
    "def day_of_month_to_string(d): return str(d) if d > 9 else '0' + str(d)\n",
    "\n",
    "print('\\nJupyter Notebook running Python {}'.format(sys.version_info[0]))"
   ]
  },
  {
   "cell_type": "code",
   "execution_count": 2,
   "metadata": {
    "tags": []
   },
   "outputs": [],
   "source": [
    "# operating on '../../../data/rca/OregonSlopeBase/profiler/ctd/ooi-rs01sbps-sf01a-2a-ctdpfa102_6974_57e0_dbda.nc' and so on: July 2021"
   ]
  },
  {
   "cell_type": "code",
   "execution_count": 23,
   "metadata": {
    "tags": []
   },
   "outputs": [
    {
     "name": "stdout",
     "output_type": "stream",
     "text": [
      "\n",
      "\n",
      "Specify input NetCDF data file\n",
      "\n",
      "['do', 'vel', 'ctd', 'ph', 'nitrate', 'par', 'fluor', 'pco2', 'fullres_ctd', 'spkir']\n"
     ]
    },
    {
     "name": "stdin",
     "output_type": "stream",
     "text": [
      "Enter index 0, 1, ... to select the instrument:  9\n"
     ]
    },
    {
     "name": "stdout",
     "output_type": "stream",
     "text": [
      "['ooi-rs01sbps-sf01a-3d-spkira101_4efb_11ac_2e12.nc']\n"
     ]
    },
    {
     "name": "stdin",
     "output_type": "stream",
     "text": [
      "Enter index of NetCDF file to use 0\n"
     ]
    },
    {
     "name": "stdout",
     "output_type": "stream",
     "text": [
      "\n",
      "\n",
      "\n",
      "\n",
      "\n",
      "Swap the dimension (e.g. time in place of row or obs)\n",
      "\n",
      "Dimensions: ['row']\n",
      "Coordinates: []\n",
      "Data Variables: ['time', 'spectir_412nm', 'spectir_443nm', 'spectir_490nm', 'spectir_510nm', 'spectir_555nm', 'spectir_620nm', 'spectir_683nm', 'spectir_412nm_qc_agg', 'spectir_443nm_qc_agg', 'spectir_490nm_qc_agg', 'spectir_510nm_qc_agg', 'spectir_555nm_qc_agg', 'spectir_620nm_qc_agg', 'spectir_683nm_qc_agg', 'z']\n",
      "\n",
      "\n",
      "Rename, Drop or Retain Coordinates\n",
      "\n",
      "\n",
      "\n",
      "Rename, Drop or Retain Data Variables\n",
      "\n",
      "For 15 data variables: 0 to drop, non-zero string to rename, enter to retain:\n",
      "\n",
      "data variable name: spectir_412nm\n"
     ]
    },
    {
     "name": "stdin",
     "output_type": "stream",
     "text": [
      "Drop (0), Rename or Keep: 412nm\n"
     ]
    },
    {
     "name": "stdout",
     "output_type": "stream",
     "text": [
      "data variable name: spectir_443nm\n"
     ]
    },
    {
     "name": "stdin",
     "output_type": "stream",
     "text": [
      "Drop (0), Rename or Keep: 443nm\n"
     ]
    },
    {
     "name": "stdout",
     "output_type": "stream",
     "text": [
      "data variable name: spectir_490nm\n"
     ]
    },
    {
     "name": "stdin",
     "output_type": "stream",
     "text": [
      "Drop (0), Rename or Keep: 490nm\n"
     ]
    },
    {
     "name": "stdout",
     "output_type": "stream",
     "text": [
      "data variable name: spectir_510nm\n"
     ]
    },
    {
     "name": "stdin",
     "output_type": "stream",
     "text": [
      "Drop (0), Rename or Keep: 510nm\n"
     ]
    },
    {
     "name": "stdout",
     "output_type": "stream",
     "text": [
      "data variable name: spectir_555nm\n"
     ]
    },
    {
     "name": "stdin",
     "output_type": "stream",
     "text": [
      "Drop (0), Rename or Keep: 555nm\n"
     ]
    },
    {
     "name": "stdout",
     "output_type": "stream",
     "text": [
      "data variable name: spectir_620nm\n"
     ]
    },
    {
     "name": "stdin",
     "output_type": "stream",
     "text": [
      "Drop (0), Rename or Keep: 620nm\n"
     ]
    },
    {
     "name": "stdout",
     "output_type": "stream",
     "text": [
      "data variable name: spectir_683nm\n"
     ]
    },
    {
     "name": "stdin",
     "output_type": "stream",
     "text": [
      "Drop (0), Rename or Keep: 683nm\n"
     ]
    },
    {
     "name": "stdout",
     "output_type": "stream",
     "text": [
      "data variable name: spectir_412nm_qc_agg\n"
     ]
    },
    {
     "name": "stdin",
     "output_type": "stream",
     "text": [
      "Drop (0), Rename or Keep: 0\n"
     ]
    },
    {
     "name": "stdout",
     "output_type": "stream",
     "text": [
      "data variable name: spectir_443nm_qc_agg\n"
     ]
    },
    {
     "name": "stdin",
     "output_type": "stream",
     "text": [
      "Drop (0), Rename or Keep: 0\n"
     ]
    },
    {
     "name": "stdout",
     "output_type": "stream",
     "text": [
      "data variable name: spectir_490nm_qc_agg\n"
     ]
    },
    {
     "name": "stdin",
     "output_type": "stream",
     "text": [
      "Drop (0), Rename or Keep: 0\n"
     ]
    },
    {
     "name": "stdout",
     "output_type": "stream",
     "text": [
      "data variable name: spectir_510nm_qc_agg\n"
     ]
    },
    {
     "name": "stdin",
     "output_type": "stream",
     "text": [
      "Drop (0), Rename or Keep: 0\n"
     ]
    },
    {
     "name": "stdout",
     "output_type": "stream",
     "text": [
      "data variable name: spectir_555nm_qc_agg\n"
     ]
    },
    {
     "name": "stdin",
     "output_type": "stream",
     "text": [
      "Drop (0), Rename or Keep: 0\n"
     ]
    },
    {
     "name": "stdout",
     "output_type": "stream",
     "text": [
      "data variable name: spectir_620nm_qc_agg\n"
     ]
    },
    {
     "name": "stdin",
     "output_type": "stream",
     "text": [
      "Drop (0), Rename or Keep: 0\n"
     ]
    },
    {
     "name": "stdout",
     "output_type": "stream",
     "text": [
      "data variable name: spectir_683nm_qc_agg\n"
     ]
    },
    {
     "name": "stdin",
     "output_type": "stream",
     "text": [
      "Drop (0), Rename or Keep: 0\n"
     ]
    },
    {
     "name": "stdout",
     "output_type": "stream",
     "text": [
      "data variable name: z\n"
     ]
    },
    {
     "name": "stdin",
     "output_type": "stream",
     "text": [
      "Drop (0), Rename or Keep: \n"
     ]
    },
    {
     "name": "stdout",
     "output_type": "stream",
     "text": [
      "\n",
      "\n",
      "Drop all Attributes (less any you select)\n",
      "\n",
      "\n",
      "\n",
      "Ensure the new Dimension is sorted (no User action)\n",
      "\n",
      "\n",
      "\n",
      "Select output time window (Format yyyy-mm-dd or enter to use the defaults)\n",
      "\n",
      "\n",
      "\n",
      "Here is the resulting dataset summary view:\n",
      "\n",
      "<xarray.Dataset>\n",
      "Dimensions:  (time: 44641)\n",
      "Coordinates:\n",
      "  * time     (time) datetime64[ns] 2021-07-01 2021-07-01T00:01:00 ... 2021-08-01\n",
      "Data variables:\n",
      "    412nm    (time) float64 0.008115 0.00822 0.007924 ... 0.01103 0.01105\n",
      "    443nm    (time) float64 0.01464 0.01525 0.0147 ... 0.01601 0.016 0.01552\n",
      "    490nm    (time) float64 0.01118 0.01134 0.01131 ... 0.01306 0.01247 0.0133\n",
      "    510nm    (time) float64 0.008455 0.008814 0.008644 ... 0.0112 0.01106\n",
      "    555nm    (time) float64 -0.003472 -0.004078 ... -0.004942 -0.004373\n",
      "    620nm    (time) float64 0.006813 0.007422 0.007541 ... 0.008572 0.008338\n",
      "    683nm    (time) float64 -0.002795 -0.001578 ... -0.000437 -0.0004967\n",
      "    z        (time) float64 -191.0 -191.0 -191.0 -191.0 ... -193.0 -193.0 -193.0\n"
     ]
    },
    {
     "name": "stdin",
     "output_type": "stream",
     "text": [
      "\n",
      "\n",
      "Enter an output file name. Include the .nc extension (or just enter to skip this):  spkir.nc\n"
     ]
    }
   ],
   "source": [
    "###### Run this cell to reformat a data file and write it in its new form.\n",
    "# Example output file: 'axb_nitrate_jan22_nitrate.nc' gives site, instrument, sensor and time range\n",
    "\n",
    "if not ReformatDataFile(False): print('ReformatDataFile() returned False')"
   ]
  },
  {
   "cell_type": "code",
   "execution_count": 21,
   "metadata": {
    "tags": []
   },
   "outputs": [
    {
     "data": {
      "text/html": [
       "<div><svg style=\"position: absolute; width: 0; height: 0; overflow: hidden\">\n",
       "<defs>\n",
       "<symbol id=\"icon-database\" viewBox=\"0 0 32 32\">\n",
       "<path d=\"M16 0c-8.837 0-16 2.239-16 5v4c0 2.761 7.163 5 16 5s16-2.239 16-5v-4c0-2.761-7.163-5-16-5z\"></path>\n",
       "<path d=\"M16 17c-8.837 0-16-2.239-16-5v6c0 2.761 7.163 5 16 5s16-2.239 16-5v-6c0 2.761-7.163 5-16 5z\"></path>\n",
       "<path d=\"M16 26c-8.837 0-16-2.239-16-5v6c0 2.761 7.163 5 16 5s16-2.239 16-5v-6c0 2.761-7.163 5-16 5z\"></path>\n",
       "</symbol>\n",
       "<symbol id=\"icon-file-text2\" viewBox=\"0 0 32 32\">\n",
       "<path d=\"M28.681 7.159c-0.694-0.947-1.662-2.053-2.724-3.116s-2.169-2.030-3.116-2.724c-1.612-1.182-2.393-1.319-2.841-1.319h-15.5c-1.378 0-2.5 1.121-2.5 2.5v27c0 1.378 1.122 2.5 2.5 2.5h23c1.378 0 2.5-1.122 2.5-2.5v-19.5c0-0.448-0.137-1.23-1.319-2.841zM24.543 5.457c0.959 0.959 1.712 1.825 2.268 2.543h-4.811v-4.811c0.718 0.556 1.584 1.309 2.543 2.268zM28 29.5c0 0.271-0.229 0.5-0.5 0.5h-23c-0.271 0-0.5-0.229-0.5-0.5v-27c0-0.271 0.229-0.5 0.5-0.5 0 0 15.499-0 15.5 0v7c0 0.552 0.448 1 1 1h7v19.5z\"></path>\n",
       "<path d=\"M23 26h-14c-0.552 0-1-0.448-1-1s0.448-1 1-1h14c0.552 0 1 0.448 1 1s-0.448 1-1 1z\"></path>\n",
       "<path d=\"M23 22h-14c-0.552 0-1-0.448-1-1s0.448-1 1-1h14c0.552 0 1 0.448 1 1s-0.448 1-1 1z\"></path>\n",
       "<path d=\"M23 18h-14c-0.552 0-1-0.448-1-1s0.448-1 1-1h14c0.552 0 1 0.448 1 1s-0.448 1-1 1z\"></path>\n",
       "</symbol>\n",
       "</defs>\n",
       "</svg>\n",
       "<style>/* CSS stylesheet for displaying xarray objects in jupyterlab.\n",
       " *\n",
       " */\n",
       "\n",
       ":root {\n",
       "  --xr-font-color0: var(--jp-content-font-color0, rgba(0, 0, 0, 1));\n",
       "  --xr-font-color2: var(--jp-content-font-color2, rgba(0, 0, 0, 0.54));\n",
       "  --xr-font-color3: var(--jp-content-font-color3, rgba(0, 0, 0, 0.38));\n",
       "  --xr-border-color: var(--jp-border-color2, #e0e0e0);\n",
       "  --xr-disabled-color: var(--jp-layout-color3, #bdbdbd);\n",
       "  --xr-background-color: var(--jp-layout-color0, white);\n",
       "  --xr-background-color-row-even: var(--jp-layout-color1, white);\n",
       "  --xr-background-color-row-odd: var(--jp-layout-color2, #eeeeee);\n",
       "}\n",
       "\n",
       "html[theme=dark],\n",
       "body[data-theme=dark],\n",
       "body.vscode-dark {\n",
       "  --xr-font-color0: rgba(255, 255, 255, 1);\n",
       "  --xr-font-color2: rgba(255, 255, 255, 0.54);\n",
       "  --xr-font-color3: rgba(255, 255, 255, 0.38);\n",
       "  --xr-border-color: #1F1F1F;\n",
       "  --xr-disabled-color: #515151;\n",
       "  --xr-background-color: #111111;\n",
       "  --xr-background-color-row-even: #111111;\n",
       "  --xr-background-color-row-odd: #313131;\n",
       "}\n",
       "\n",
       ".xr-wrap {\n",
       "  display: block !important;\n",
       "  min-width: 300px;\n",
       "  max-width: 700px;\n",
       "}\n",
       "\n",
       ".xr-text-repr-fallback {\n",
       "  /* fallback to plain text repr when CSS is not injected (untrusted notebook) */\n",
       "  display: none;\n",
       "}\n",
       "\n",
       ".xr-header {\n",
       "  padding-top: 6px;\n",
       "  padding-bottom: 6px;\n",
       "  margin-bottom: 4px;\n",
       "  border-bottom: solid 1px var(--xr-border-color);\n",
       "}\n",
       "\n",
       ".xr-header > div,\n",
       ".xr-header > ul {\n",
       "  display: inline;\n",
       "  margin-top: 0;\n",
       "  margin-bottom: 0;\n",
       "}\n",
       "\n",
       ".xr-obj-type,\n",
       ".xr-array-name {\n",
       "  margin-left: 2px;\n",
       "  margin-right: 10px;\n",
       "}\n",
       "\n",
       ".xr-obj-type {\n",
       "  color: var(--xr-font-color2);\n",
       "}\n",
       "\n",
       ".xr-sections {\n",
       "  padding-left: 0 !important;\n",
       "  display: grid;\n",
       "  grid-template-columns: 150px auto auto 1fr 20px 20px;\n",
       "}\n",
       "\n",
       ".xr-section-item {\n",
       "  display: contents;\n",
       "}\n",
       "\n",
       ".xr-section-item input {\n",
       "  display: none;\n",
       "}\n",
       "\n",
       ".xr-section-item input + label {\n",
       "  color: var(--xr-disabled-color);\n",
       "}\n",
       "\n",
       ".xr-section-item input:enabled + label {\n",
       "  cursor: pointer;\n",
       "  color: var(--xr-font-color2);\n",
       "}\n",
       "\n",
       ".xr-section-item input:enabled + label:hover {\n",
       "  color: var(--xr-font-color0);\n",
       "}\n",
       "\n",
       ".xr-section-summary {\n",
       "  grid-column: 1;\n",
       "  color: var(--xr-font-color2);\n",
       "  font-weight: 500;\n",
       "}\n",
       "\n",
       ".xr-section-summary > span {\n",
       "  display: inline-block;\n",
       "  padding-left: 0.5em;\n",
       "}\n",
       "\n",
       ".xr-section-summary-in:disabled + label {\n",
       "  color: var(--xr-font-color2);\n",
       "}\n",
       "\n",
       ".xr-section-summary-in + label:before {\n",
       "  display: inline-block;\n",
       "  content: '►';\n",
       "  font-size: 11px;\n",
       "  width: 15px;\n",
       "  text-align: center;\n",
       "}\n",
       "\n",
       ".xr-section-summary-in:disabled + label:before {\n",
       "  color: var(--xr-disabled-color);\n",
       "}\n",
       "\n",
       ".xr-section-summary-in:checked + label:before {\n",
       "  content: '▼';\n",
       "}\n",
       "\n",
       ".xr-section-summary-in:checked + label > span {\n",
       "  display: none;\n",
       "}\n",
       "\n",
       ".xr-section-summary,\n",
       ".xr-section-inline-details {\n",
       "  padding-top: 4px;\n",
       "  padding-bottom: 4px;\n",
       "}\n",
       "\n",
       ".xr-section-inline-details {\n",
       "  grid-column: 2 / -1;\n",
       "}\n",
       "\n",
       ".xr-section-details {\n",
       "  display: none;\n",
       "  grid-column: 1 / -1;\n",
       "  margin-bottom: 5px;\n",
       "}\n",
       "\n",
       ".xr-section-summary-in:checked ~ .xr-section-details {\n",
       "  display: contents;\n",
       "}\n",
       "\n",
       ".xr-array-wrap {\n",
       "  grid-column: 1 / -1;\n",
       "  display: grid;\n",
       "  grid-template-columns: 20px auto;\n",
       "}\n",
       "\n",
       ".xr-array-wrap > label {\n",
       "  grid-column: 1;\n",
       "  vertical-align: top;\n",
       "}\n",
       "\n",
       ".xr-preview {\n",
       "  color: var(--xr-font-color3);\n",
       "}\n",
       "\n",
       ".xr-array-preview,\n",
       ".xr-array-data {\n",
       "  padding: 0 5px !important;\n",
       "  grid-column: 2;\n",
       "}\n",
       "\n",
       ".xr-array-data,\n",
       ".xr-array-in:checked ~ .xr-array-preview {\n",
       "  display: none;\n",
       "}\n",
       "\n",
       ".xr-array-in:checked ~ .xr-array-data,\n",
       ".xr-array-preview {\n",
       "  display: inline-block;\n",
       "}\n",
       "\n",
       ".xr-dim-list {\n",
       "  display: inline-block !important;\n",
       "  list-style: none;\n",
       "  padding: 0 !important;\n",
       "  margin: 0;\n",
       "}\n",
       "\n",
       ".xr-dim-list li {\n",
       "  display: inline-block;\n",
       "  padding: 0;\n",
       "  margin: 0;\n",
       "}\n",
       "\n",
       ".xr-dim-list:before {\n",
       "  content: '(';\n",
       "}\n",
       "\n",
       ".xr-dim-list:after {\n",
       "  content: ')';\n",
       "}\n",
       "\n",
       ".xr-dim-list li:not(:last-child):after {\n",
       "  content: ',';\n",
       "  padding-right: 5px;\n",
       "}\n",
       "\n",
       ".xr-has-index {\n",
       "  font-weight: bold;\n",
       "}\n",
       "\n",
       ".xr-var-list,\n",
       ".xr-var-item {\n",
       "  display: contents;\n",
       "}\n",
       "\n",
       ".xr-var-item > div,\n",
       ".xr-var-item label,\n",
       ".xr-var-item > .xr-var-name span {\n",
       "  background-color: var(--xr-background-color-row-even);\n",
       "  margin-bottom: 0;\n",
       "}\n",
       "\n",
       ".xr-var-item > .xr-var-name:hover span {\n",
       "  padding-right: 5px;\n",
       "}\n",
       "\n",
       ".xr-var-list > li:nth-child(odd) > div,\n",
       ".xr-var-list > li:nth-child(odd) > label,\n",
       ".xr-var-list > li:nth-child(odd) > .xr-var-name span {\n",
       "  background-color: var(--xr-background-color-row-odd);\n",
       "}\n",
       "\n",
       ".xr-var-name {\n",
       "  grid-column: 1;\n",
       "}\n",
       "\n",
       ".xr-var-dims {\n",
       "  grid-column: 2;\n",
       "}\n",
       "\n",
       ".xr-var-dtype {\n",
       "  grid-column: 3;\n",
       "  text-align: right;\n",
       "  color: var(--xr-font-color2);\n",
       "}\n",
       "\n",
       ".xr-var-preview {\n",
       "  grid-column: 4;\n",
       "}\n",
       "\n",
       ".xr-index-preview {\n",
       "  grid-column: 2 / 5;\n",
       "  color: var(--xr-font-color2);\n",
       "}\n",
       "\n",
       ".xr-var-name,\n",
       ".xr-var-dims,\n",
       ".xr-var-dtype,\n",
       ".xr-preview,\n",
       ".xr-attrs dt {\n",
       "  white-space: nowrap;\n",
       "  overflow: hidden;\n",
       "  text-overflow: ellipsis;\n",
       "  padding-right: 10px;\n",
       "}\n",
       "\n",
       ".xr-var-name:hover,\n",
       ".xr-var-dims:hover,\n",
       ".xr-var-dtype:hover,\n",
       ".xr-attrs dt:hover {\n",
       "  overflow: visible;\n",
       "  width: auto;\n",
       "  z-index: 1;\n",
       "}\n",
       "\n",
       ".xr-var-attrs,\n",
       ".xr-var-data,\n",
       ".xr-index-data {\n",
       "  display: none;\n",
       "  background-color: var(--xr-background-color) !important;\n",
       "  padding-bottom: 5px !important;\n",
       "}\n",
       "\n",
       ".xr-var-attrs-in:checked ~ .xr-var-attrs,\n",
       ".xr-var-data-in:checked ~ .xr-var-data,\n",
       ".xr-index-data-in:checked ~ .xr-index-data {\n",
       "  display: block;\n",
       "}\n",
       "\n",
       ".xr-var-data > table {\n",
       "  float: right;\n",
       "}\n",
       "\n",
       ".xr-var-name span,\n",
       ".xr-var-data,\n",
       ".xr-index-name div,\n",
       ".xr-index-data,\n",
       ".xr-attrs {\n",
       "  padding-left: 25px !important;\n",
       "}\n",
       "\n",
       ".xr-attrs,\n",
       ".xr-var-attrs,\n",
       ".xr-var-data,\n",
       ".xr-index-data {\n",
       "  grid-column: 1 / -1;\n",
       "}\n",
       "\n",
       "dl.xr-attrs {\n",
       "  padding: 0;\n",
       "  margin: 0;\n",
       "  display: grid;\n",
       "  grid-template-columns: 125px auto;\n",
       "}\n",
       "\n",
       ".xr-attrs dt,\n",
       ".xr-attrs dd {\n",
       "  padding: 0;\n",
       "  margin: 0;\n",
       "  float: left;\n",
       "  padding-right: 10px;\n",
       "  width: auto;\n",
       "}\n",
       "\n",
       ".xr-attrs dt {\n",
       "  font-weight: normal;\n",
       "  grid-column: 1;\n",
       "}\n",
       "\n",
       ".xr-attrs dt:hover span {\n",
       "  display: inline-block;\n",
       "  background: var(--xr-background-color);\n",
       "  padding-right: 10px;\n",
       "}\n",
       "\n",
       ".xr-attrs dd {\n",
       "  grid-column: 2;\n",
       "  white-space: pre-wrap;\n",
       "  word-break: break-all;\n",
       "}\n",
       "\n",
       ".xr-icon-database,\n",
       ".xr-icon-file-text2,\n",
       ".xr-no-icon {\n",
       "  display: inline-block;\n",
       "  vertical-align: middle;\n",
       "  width: 1em;\n",
       "  height: 1.5em !important;\n",
       "  stroke-width: 0;\n",
       "  stroke: currentColor;\n",
       "  fill: currentColor;\n",
       "}\n",
       "</style><pre class='xr-text-repr-fallback'>&lt;xarray.Dataset&gt;\n",
       "Dimensions:  (time: 43153)\n",
       "Coordinates:\n",
       "  * time     (time) datetime64[ns] 2021-07-01 2021-07-01T00:01:00 ... 2021-08-01\n",
       "Data variables:\n",
       "    chlora   (time) float64 ...\n",
       "    z        (time) float64 ...</pre><div class='xr-wrap' style='display:none'><div class='xr-header'><div class='xr-obj-type'>xarray.Dataset</div></div><ul class='xr-sections'><li class='xr-section-item'><input id='section-c34ebe6e-7881-4042-bd09-4cddddca5945' class='xr-section-summary-in' type='checkbox' disabled ><label for='section-c34ebe6e-7881-4042-bd09-4cddddca5945' class='xr-section-summary'  title='Expand/collapse section'>Dimensions:</label><div class='xr-section-inline-details'><ul class='xr-dim-list'><li><span class='xr-has-index'>time</span>: 43153</li></ul></div><div class='xr-section-details'></div></li><li class='xr-section-item'><input id='section-476a0745-b91e-43c0-ab0b-b04735341ac2' class='xr-section-summary-in' type='checkbox'  checked><label for='section-476a0745-b91e-43c0-ab0b-b04735341ac2' class='xr-section-summary' >Coordinates: <span>(1)</span></label><div class='xr-section-inline-details'></div><div class='xr-section-details'><ul class='xr-var-list'><li class='xr-var-item'><div class='xr-var-name'><span class='xr-has-index'>time</span></div><div class='xr-var-dims'>(time)</div><div class='xr-var-dtype'>datetime64[ns]</div><div class='xr-var-preview xr-preview'>2021-07-01 ... 2021-08-01</div><input id='attrs-01410423-d9fe-44b1-828b-7888bcf19ef2' class='xr-var-attrs-in' type='checkbox' disabled><label for='attrs-01410423-d9fe-44b1-828b-7888bcf19ef2' title='Show/Hide attributes'><svg class='icon xr-icon-file-text2'><use xlink:href='#icon-file-text2'></use></svg></label><input id='data-4bbf1258-e5c3-40b2-8e41-b32c0cc706cf' class='xr-var-data-in' type='checkbox'><label for='data-4bbf1258-e5c3-40b2-8e41-b32c0cc706cf' title='Show/Hide data repr'><svg class='icon xr-icon-database'><use xlink:href='#icon-database'></use></svg></label><div class='xr-var-attrs'><dl class='xr-attrs'></dl></div><div class='xr-var-data'><pre>array([&#x27;2021-07-01T00:00:00.000000000&#x27;, &#x27;2021-07-01T00:01:00.000000000&#x27;,\n",
       "       &#x27;2021-07-01T00:02:00.000000000&#x27;, ..., &#x27;2021-07-31T23:58:00.000000000&#x27;,\n",
       "       &#x27;2021-07-31T23:59:00.000000000&#x27;, &#x27;2021-08-01T00:00:00.000000000&#x27;],\n",
       "      dtype=&#x27;datetime64[ns]&#x27;)</pre></div></li></ul></div></li><li class='xr-section-item'><input id='section-063774db-3574-46d5-a7ce-13c6b9b4f630' class='xr-section-summary-in' type='checkbox'  checked><label for='section-063774db-3574-46d5-a7ce-13c6b9b4f630' class='xr-section-summary' >Data variables: <span>(2)</span></label><div class='xr-section-inline-details'></div><div class='xr-section-details'><ul class='xr-var-list'><li class='xr-var-item'><div class='xr-var-name'><span>chlora</span></div><div class='xr-var-dims'>(time)</div><div class='xr-var-dtype'>float64</div><div class='xr-var-preview xr-preview'>...</div><input id='attrs-dcbae685-8412-4aeb-a663-ac5f3363da18' class='xr-var-attrs-in' type='checkbox' ><label for='attrs-dcbae685-8412-4aeb-a663-ac5f3363da18' title='Show/Hide attributes'><svg class='icon xr-icon-file-text2'><use xlink:href='#icon-file-text2'></use></svg></label><input id='data-2a5c54a5-b59a-4732-8fa5-8f2f095a39d8' class='xr-var-data-in' type='checkbox'><label for='data-2a5c54a5-b59a-4732-8fa5-8f2f095a39d8' title='Show/Hide data repr'><svg class='icon xr-icon-database'><use xlink:href='#icon-database'></use></svg></label><div class='xr-var-attrs'><dl class='xr-attrs'><dt><span>_ChunkSizes :</span></dt><dd>512</dd><dt><span>actual_range :</span></dt><dd>[-2.31833333e-01  3.19735160e+02]</dd><dt><span>discrimant :</span></dt><dd>profiler_depth_enabled</dd><dt><span>discriminant :</span></dt><dd>profiler_depth_enabled</dd><dt><span>id :</span></dt><dd>1019978</dd><dt><span>ioos_category :</span></dt><dd>Other</dd><dt><span>long_name :</span></dt><dd>Chlorophyll a Mass Concentration</dd><dt><span>platform :</span></dt><dd>station</dd><dt><span>short_name :</span></dt><dd>mass_concentration_of_chlorophyll_a_in_sea_water</dd><dt><span>standard_name :</span></dt><dd>mass_concentration_of_chlorophyll_a_in_sea_water</dd><dt><span>standard_name_url :</span></dt><dd>http://mmisw.org/ont/cf/parameter/mass_concentration_of_chlorophyll_a_in_sea_water</dd><dt><span>units :</span></dt><dd>microg.L-1</dd></dl></div><div class='xr-var-data'><pre>[43153 values with dtype=float64]</pre></div></li><li class='xr-var-item'><div class='xr-var-name'><span>z</span></div><div class='xr-var-dims'>(time)</div><div class='xr-var-dtype'>float64</div><div class='xr-var-preview xr-preview'>...</div><input id='attrs-426658c7-78df-4231-916a-3bbd2339be1b' class='xr-var-attrs-in' type='checkbox' ><label for='attrs-426658c7-78df-4231-916a-3bbd2339be1b' title='Show/Hide attributes'><svg class='icon xr-icon-file-text2'><use xlink:href='#icon-file-text2'></use></svg></label><input id='data-f1a83eae-4607-40f1-a529-18598f6dc9e9' class='xr-var-data-in' type='checkbox'><label for='data-f1a83eae-4607-40f1-a529-18598f6dc9e9' title='Show/Hide data repr'><svg class='icon xr-icon-database'><use xlink:href='#icon-database'></use></svg></label><div class='xr-var-attrs'><dl class='xr-attrs'><dt><span>_ChunkSizes :</span></dt><dd>512</dd><dt><span>_CoordinateAxisType :</span></dt><dd>Height</dd><dt><span>_CoordinateZisPositive :</span></dt><dd>up</dd><dt><span>actual_range :</span></dt><dd>[-237.   59.]</dd><dt><span>axis :</span></dt><dd>Z</dd><dt><span>ioos_category :</span></dt><dd>Location</dd><dt><span>long_name :</span></dt><dd>Altitude</dd><dt><span>positive :</span></dt><dd>up</dd><dt><span>standard_name :</span></dt><dd>altitude</dd><dt><span>units :</span></dt><dd>m</dd></dl></div><div class='xr-var-data'><pre>[43153 values with dtype=float64]</pre></div></li></ul></div></li><li class='xr-section-item'><input id='section-07a93b95-5fa1-4840-a477-5e97ff6d027a' class='xr-section-summary-in' type='checkbox'  ><label for='section-07a93b95-5fa1-4840-a477-5e97ff6d027a' class='xr-section-summary' >Indexes: <span>(1)</span></label><div class='xr-section-inline-details'></div><div class='xr-section-details'><ul class='xr-var-list'><li class='xr-var-item'><div class='xr-index-name'><div>time</div></div><div class='xr-index-preview'>PandasIndex</div><div></div><input id='index-068736d1-e1e1-4cd9-83fc-c1f6a26f27a0' class='xr-index-data-in' type='checkbox'/><label for='index-068736d1-e1e1-4cd9-83fc-c1f6a26f27a0' title='Show/Hide index repr'><svg class='icon xr-icon-database'><use xlink:href='#icon-database'></use></svg></label><div class='xr-index-data'><pre>PandasIndex(DatetimeIndex([&#x27;2021-07-01 00:00:00&#x27;, &#x27;2021-07-01 00:01:00&#x27;,\n",
       "               &#x27;2021-07-01 00:02:00&#x27;, &#x27;2021-07-01 00:03:00&#x27;,\n",
       "               &#x27;2021-07-01 00:05:00&#x27;, &#x27;2021-07-01 00:06:00&#x27;,\n",
       "               &#x27;2021-07-01 00:07:00&#x27;, &#x27;2021-07-01 00:08:00&#x27;,\n",
       "               &#x27;2021-07-01 00:09:00&#x27;, &#x27;2021-07-01 00:10:00&#x27;,\n",
       "               ...\n",
       "               &#x27;2021-07-31 23:51:00&#x27;, &#x27;2021-07-31 23:52:00&#x27;,\n",
       "               &#x27;2021-07-31 23:53:00&#x27;, &#x27;2021-07-31 23:54:00&#x27;,\n",
       "               &#x27;2021-07-31 23:55:00&#x27;, &#x27;2021-07-31 23:56:00&#x27;,\n",
       "               &#x27;2021-07-31 23:57:00&#x27;, &#x27;2021-07-31 23:58:00&#x27;,\n",
       "               &#x27;2021-07-31 23:59:00&#x27;, &#x27;2021-08-01 00:00:00&#x27;],\n",
       "              dtype=&#x27;datetime64[ns]&#x27;, name=&#x27;time&#x27;, length=43153, freq=None))</pre></div></li></ul></div></li><li class='xr-section-item'><input id='section-ca40b300-bffe-4829-bce4-3a6f9bafd108' class='xr-section-summary-in' type='checkbox' disabled ><label for='section-ca40b300-bffe-4829-bce4-3a6f9bafd108' class='xr-section-summary'  title='Expand/collapse section'>Attributes: <span>(0)</span></label><div class='xr-section-inline-details'></div><div class='xr-section-details'><dl class='xr-attrs'></dl></div></li></ul></div></div>"
      ],
      "text/plain": [
       "<xarray.Dataset>\n",
       "Dimensions:  (time: 43153)\n",
       "Coordinates:\n",
       "  * time     (time) datetime64[ns] 2021-07-01 2021-07-01T00:01:00 ... 2021-08-01\n",
       "Data variables:\n",
       "    chlora   (time) float64 ...\n",
       "    z        (time) float64 ..."
      ]
     },
     "execution_count": 21,
     "metadata": {},
     "output_type": "execute_result"
    }
   ],
   "source": [
    "ds = xr.open_dataset('chlora.nc')\n",
    "ds"
   ]
  },
  {
   "cell_type": "code",
   "execution_count": 5,
   "metadata": {
    "tags": []
   },
   "outputs": [
    {
     "name": "stdout",
     "output_type": "stream",
     "text": [
      "44640\n"
     ]
    }
   ],
   "source": [
    "print(31*24*60)"
   ]
  },
  {
   "cell_type": "markdown",
   "metadata": {
    "tags": []
   },
   "source": [
    "#### Test dataset\n",
    "\n",
    "On 10/16/23 the 1min datasets (repo-external /data folder) from OOI were processed for storage\n",
    "and use in this repository. The file naming convention is \n",
    "\n",
    "\n",
    "**`<site>_<instrument>_<month>_<sensor>.nc`**.\n",
    "\n",
    "\n",
    "Hence for the Oregon Slope Base profiler we have `osb_spkir_jan22_spkir.nc` using the OOI abbreviation\n",
    "for spectral irradiance **`spkir`**. Note that the sensor and instrument are the same in this case.\n",
    "In the case of the fluorometer and CTD the sensor is not the same as the instrument.\n",
    "\n",
    "\n",
    "In this case the time range was constrained Jan 1 to Feb 1 2022. At the moment it is unclear how \n",
    "the velocity data is produced: From a sensor on the profiler or from a sensor on the platform?\n",
    "\n",
    "\n",
    "The only data file containing streams from multiple sensors is the spectral irradiance (spkir) file.\n",
    "This records 7 wavelength bands. While instruments ctd, fluor and vel have multiple\n",
    "sensors these are split into separate data files."
   ]
  },
  {
   "cell_type": "code",
   "execution_count": null,
   "metadata": {
    "tags": []
   },
   "outputs": [],
   "source": [
    "jan22_data = [\n",
    "'osb_ctd_jan22_pressure.nc',\n",
    "'osb_ctd_jan22_temperature.nc',\n",
    "'osb_ctd_jan22_density.nc',\n",
    "'osb_ctd_jan22_salinity.nc',\n",
    "'osb_ctd_jan22_conductivity.nc',\n",
    "'osb_fluor_jan22_fdom.nc',\n",
    "'osb_fluor_jan22_chlora.nc',\n",
    "'osb_fluor_jan22_bb.nc',\n",
    "'osb_spkir_jan22_spkir.nc',\n",
    "'osb_nitrate_jan22_nitrate.nc',\n",
    "'osb_pco2_jan22_pco2.nc',\n",
    "'osb_do_jan22_do.nc',\n",
    "'osb_par_jan22_par.nc',\n",
    "'osb_ph_jan22_ph.nc',\n",
    "'osb_vel_jan22_up.nc',\n",
    "'osb_vel_jan22_east.nc',\n",
    "'osb_vel_jan22_north.nc']"
   ]
  },
  {
   "cell_type": "markdown",
   "metadata": {},
   "source": [
    "#### Data review\n",
    "\n",
    "\n",
    "The above cell generates a set of about 17 time-bounded NetCDF measurement data files. \n",
    "To review these files and their *XArray Dataset data variable* names: Activate and run the\n",
    "following code. The cell below captures these names into a list of lists.\n",
    "    \n",
    "```\n",
    "data_prefix = '../data/'\n",
    "for f in jan22_data:\n",
    "    ds = xr.open_dataset(data_prefix + f)\n",
    "    print(ds)\n",
    "    r = input('enter to continue')\n",
    "```"
   ]
  },
  {
   "cell_type": "code",
   "execution_count": null,
   "metadata": {
    "tags": []
   },
   "outputs": [],
   "source": [
    "# The relative path to the data files from the Notebooks folder is up one level, then to the data folder\n",
    "data_prefix = '../data/'\n",
    "\n",
    "# The data variables corresponding to the jan22_data files defined above\n",
    "jan22_data_vars = [\n",
    "    ['pressure'],['temperature'],['density'], ['salinity'], ['conductivity'],\n",
    "    ['fdom'], ['chlora'], ['bb'],\n",
    "    ['412nm', '443nm', '490nm', '510nm', '555nm', '620nm', '683nm'],\n",
    "    ['nitrate'],\n",
    "    ['pco2'],\n",
    "    ['do'],\n",
    "    ['par'],\n",
    "    ['ph'],\n",
    "    ['up'], ['east'], ['north']]"
   ]
  },
  {
   "cell_type": "markdown",
   "metadata": {},
   "source": [
    "## Profiles\n",
    "\n",
    "\n",
    "The final task of this notebook is to produce a table of profile metadata. \n",
    "\n",
    "\n",
    "Profile timing is driven by the RCA engineering system, producing some variability in profile\n",
    "timing. Also shallow profilers occasionally go out of service. Using profile time/depth data we\n",
    "produce a table of timestamps corresponding to 3-part profile cycles: Ascent, Descent and Rest. \n",
    "This table is used in subsequent analysis to isolate individual profiles.\n",
    "\n",
    "\n",
    "The following cell illustrates a typical day of profiling cycles.\n",
    "\n",
    "\n",
    "- The time scale for January 10 is in UTM hours\n",
    "- Nine profiles are run, two of which are noticeably longer in duration\n",
    "- The two longer profiles at midnight and noon associate with nitrate, pCO2 and pH measurement\n",
    "    - These have built-in pauses for equilibration during descent\n",
    "- During the *rest* intervals the profiler is secured in an anchored platform\n",
    "    - The platform has its own set of instruments"
   ]
  },
  {
   "cell_type": "code",
   "execution_count": null,
   "metadata": {
    "tags": []
   },
   "outputs": [],
   "source": [
    "def ProfilerDepthChart(t0, t1, fnm, annotate=False):\n",
    "    ds = xr.open_dataset(fnm).sel(time=slice(dt64(t0), dt64(t1)))\n",
    "    fig, axs = plt.subplots(figsize=(12,4), tight_layout=True)\n",
    "    axs.plot(ds.time, ds.z, marker='.', ms=11., color='k', mfc='r', linewidth='.0001')\n",
    "    axs.set(ylim = (-200., 0.), title='Shallow profiler depth with time', ylabel='depth (m)', xlabel='Hours (UTM)')\n",
    "    if annotate:\n",
    "        axs.text(dt64('2022-01-09 23:15'), -184, 'AT')\n",
    "        axs.text(dt64('2022-01-09 23:05'), -193, 'REST')\n",
    "        axs.text(dt64('2022-01-10 08'), -180, 'midnight')\n",
    "        axs.text(dt64('2022-01-10 21:40'), -180, 'noon')\n",
    "        axs.text(dt64('2022-01-10 09:25'), -60, 'slow')\n",
    "        axs.text(dt64('2022-01-10 09:30'), -70, 'descent')\n",
    "        axs.text(dt64('2022-01-10 23:00'), -60, 'slow')\n",
    "        axs.text(dt64('2022-01-10 23:00'), -70, 'descent')\n",
    "    return True\n",
    "\n",
    "ProfilerDepthChart('2022-01-10', '2022-01-11', data_prefix + jan22_data[0], True)\n",
    "\n",
    "print('January 10 2022 profiles')"
   ]
  },
  {
   "cell_type": "code",
   "execution_count": null,
   "metadata": {
    "tags": []
   },
   "outputs": [],
   "source": [
    "fnm = '../data/osb_ctd_jan22_pressure.nc'\n",
    "a0, a1, d0, d1, r0, r1 = ProfileGenerator(fnm, 'osb', 'z', True)\n",
    "xr.open_dataset(fnm)['z'][-1440*2:-1].plot()\n",
    "if not ProfileWriter('../profiles/osb_profiles_jan22.csv', a0, a1, d0, d1, r0, r1): print('ProfileWriter() is False')"
   ]
  },
  {
   "cell_type": "markdown",
   "metadata": {},
   "source": [
    "#### How to use profile files\n",
    "\n",
    "- Read the file into a pandas Dataframe\n",
    "- Each row is a Rest --- Ascent --- Descent phase sequence\n",
    "    - Each phase has a start and an end: For a total of six events\n",
    "        - There is degeneracy: r1 == a0, a1 == d0, and mostly d1 == the next row's r0\n",
    "    - Each entry for these six events is a triple (i, t, z)\n",
    "        - i is an index from the source file; usually ignore this\n",
    "        - t is the time of the event; important\n",
    "        - z is the depth of the event\n",
    "            - for a1/d0 this will indicate if the profile approached the surface\n",
    "    - Consequently each row has 18 columns\n",
    "    \n",
    "Suppose the idea is to make a depth plot of temperature for a particular profile. Select out this\n",
    "profile and slice the source data using a time range given as a0 to a1. See the next notebook \n",
    "for examples.\n"
   ]
  },
  {
   "cell_type": "code",
   "execution_count": null,
   "metadata": {},
   "outputs": [],
   "source": [
    "#### visual on one month of profiles\n",
    "\n",
    "ds = xr.open_dataset(\"./../data/osb_ctd_jan22_pressure.nc\")\n",
    "fig, axs = plt.subplots(31, 1, figsize=(15,31), tight_layout=True)\n",
    "\n",
    "for i in range(31):\n",
    "    daystring = str(i+1) if i > 8 else '0' + str(i+1)\n",
    "    time0 = dt64('2022-01-' + daystring + 'T00:00:00')\n",
    "    time1 = dt64('2022-01-' + daystring + 'T23:59:59')\n",
    "    dsDay = ds.sel(time=slice(time0, time1))\n",
    "    axs[i].plot(dsDay.time, dsDay.z, marker='.', markersize=1., color='k')\n",
    "    axs[i].set(ylim = (-200., 0.))\n",
    "\n",
    "print('...January 2022 Oregon Slope Base daily profiles...')\n",
    "print('     sub-optimal profiles can be seen on Jan 1, 3, 4, 5 and 7')"
   ]
  },
  {
   "cell_type": "markdown",
   "metadata": {},
   "source": [
    "#### Comment on profile phase durations\n",
    "\n",
    "\n",
    "```\n",
    "  Ascents:   67.4 +-3.0  minutes\n",
    "  Descents:  47.5 +-24.9          (reason: 2 of 9 each day are longer due to pauses on descent)\n",
    "  Rests:     44.8 +-14.1\n",
    "```\n"
   ]
  },
  {
   "cell_type": "code",
   "execution_count": null,
   "metadata": {},
   "outputs": [],
   "source": []
  }
 ],
 "metadata": {
  "kernelspec": {
   "display_name": "Python 3 (ipykernel)",
   "language": "python",
   "name": "python3"
  },
  "language_info": {
   "codemirror_mode": {
    "name": "ipython",
    "version": 3
   },
   "file_extension": ".py",
   "mimetype": "text/x-python",
   "name": "python",
   "nbconvert_exporter": "python",
   "pygments_lexer": "ipython3",
   "version": "3.11.4"
  }
 },
 "nbformat": 4,
 "nbformat_minor": 4
}
