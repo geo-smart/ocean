{
 "cells": [
  {
   "cell_type": "markdown",
   "id": "experienced-definition",
   "metadata": {},
   "source": []
  },
  {
   "cell_type": "markdown",
   "id": "c7437fad",
   "metadata": {},
   "source": [
    "## Expanding to the full shallow profiler dataset\n",
    "\n",
    "\n",
    "### Review \"dimensions\" of shallow profiler data. \n",
    "\n",
    "\n",
    "* There are three sites, abbreviated here **axb**, **oos** and **osb**\n",
    "* There are seven years of data collection possible, 2015 ... 2021\n",
    "* There are up to 16 different \"level 1+\" data products considered\n",
    "    * backscatter\n",
    "    * cdom\n",
    "    * chlora\n",
    "    * density\n",
    "    * dissolved oxygen\n",
    "    * nitrate\n",
    "    * par\n",
    "    * pco2\n",
    "    * pH\n",
    "    * pressure\n",
    "    * salinity\n",
    "    * spectral irradiance\n",
    "    * temperature\n",
    "    * velocity east\n",
    "    * velocity north\n",
    "    * velocity up\n",
    "* There are three types of profiler behavior: ascend, descend, rest\n",
    "    * Nine profiles per day\n",
    "    * Noon and midnight profiles feature stabilization stops on descent\n",
    "    * There are profiles during day and night \n",
    "    * There is seasonality\n",
    "* There is a platform with a set of related instruments\n",
    "    * backscatter\n",
    "    * cdom\n",
    "    * chlora\n",
    "    * density\n",
    "    * dissolved oxygen version 1\n",
    "    * dissolved oxygen version 2\n",
    "    * dissolved oxygen version 3\n",
    "    * ph\n",
    "    * pressure\n",
    "    * salinity\n",
    "    * temperature\n",
    "* There are other higher-rate instruments (profiler and platform)\n",
    "    * spectrophotometer\n",
    "\n",
    "\n",
    "### Check data availability for the three shallow profiler sites\n",
    "\n",
    "Vertical axis is depth in meters, horizontal is time."
   ]
  }
 ],
 "metadata": {
  "kernelspec": {
   "display_name": "Python 3 (ipykernel)",
   "language": "python",
   "name": "python3"
  },
  "language_info": {
   "codemirror_mode": {
    "name": "ipython",
    "version": 3
   },
   "file_extension": ".py",
   "mimetype": "text/x-python",
   "name": "python",
   "nbconvert_exporter": "python",
   "pygments_lexer": "ipython3",
   "version": "3.11.4"
  }
 },
 "nbformat": 4,
 "nbformat_minor": 5
}
