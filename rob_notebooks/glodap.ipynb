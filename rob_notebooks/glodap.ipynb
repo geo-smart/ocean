{
 "cells": [
  {
   "cell_type": "markdown",
   "id": "38126a96-6de0-4650-af7b-699d8a2282ef",
   "metadata": {},
   "source": [
    "## Global Ocean Data Analysis Project\n",
    "\n",
    "\n",
    "This notebook is a viewer for global ocean chemistry. It depends upon downloading local copies\n",
    "of five data files. The data are organized as depth-sorted layers of the global ocean (where the\n",
    "depths are predetermined). The data files are not part of this Jupyter Book due to size limits.\n",
    "\n",
    "\n",
    "\n",
    "\n",
    "The [GLODAP](https://en.wikipedia.org/wiki/Global_Ocean_Data_Analysis_Project) \n",
    "global ocean dataset compiles several decades of observation. It is a 'geological instant' snapshot of\n",
    "the state of the entire ocean.\n",
    "\n",
    "\n",
    "Moving the sliders for each chart selects for depth, as shown at the bottom left.\n",
    "\n",
    "\n",
    "\n",
    "- GLODAP data used here is the 2016 version; 2021 v2 available\n",
    "- Color map cmocean\n",
    "- Make a subset intrinsic, show by default e.g. Atlantic / Caribbean / Amazon\n",
    "\n",
    "\n",
    "\n",
    "This sequence of download commands gets five global ocean state datasets.\n",
    "\n",
    "```\n",
    "!mkdir glodap\n",
    "!wget -q https://kilroybackup.s3.us-west-2.amazonaws.com/glodap/NO3.nc         -O glodap/NO3.nc\n",
    "!wget -q https://kilroybackup.s3.us-west-2.amazonaws.com/glodap/TCO2.nc        -O glodap/TCO2.nc\n",
    "!wget -q https://kilroybackup.s3.us-west-2.amazonaws.com/glodap/oxygen.nc      -O glodap/oxygen.nc\n",
    "!wget -q https://kilroybackup.s3.us-west-2.amazonaws.com/glodap/salinity.nc    -O glodap/salinity.nc\n",
    "!wget -q https://kilroybackup.s3.us-west-2.amazonaws.com/glodap/temperature.nc -O glodap/temperature.nc\n",
    "```"
   ]
  },
  {
   "cell_type": "markdown",
   "id": "4f4e2ccc-2019-4020-8dc4-51b4c32fe365",
   "metadata": {
    "tags": []
   },
   "source": [
    "#### Artifact: configuration\n",
    "\n",
    "\n",
    "```\n",
    "import os, sys, time, glob, warnings, cmocean\n",
    "from IPython.display import clear_output\n",
    "warnings.filterwarnings('ignore')\n",
    "this_dir = os.getcwd()  \n",
    "\n",
    "from matplotlib import animation, rc\n",
    "from numpy import datetime64 as dt64, timedelta64 as td64\n",
    "```"
   ]
  },
  {
   "cell_type": "code",
   "execution_count": 1,
   "id": "29f3ed52-36f9-46d7-a067-e4bb288a8356",
   "metadata": {
    "tags": []
   },
   "outputs": [],
   "source": [
    "from matplotlib import pyplot as plt, colors as mplcolors\n",
    "import numpy as np, pandas as pd, xarray as xr\n",
    "from ipywidgets import *\n",
    "from traitlets import dlink"
   ]
  },
  {
   "cell_type": "code",
   "execution_count": 3,
   "id": "1baad57b-257a-4372-817e-e41f5e6e392b",
   "metadata": {
    "tags": []
   },
   "outputs": [],
   "source": [
    "glodapdir = '../../../data/oceanography/glodap/'         # this is a location outside of the repository\n",
    "\n",
    "temperatureFnm = glodapdir + 'temperature.nc'\n",
    "salinityFnm    = glodapdir + 'salinity.nc'\n",
    "oxygenFnm      = glodapdir + 'oxygen.nc'\n",
    "NO3Fnm         = glodapdir + 'NO3.nc'\n",
    "TCO2Fnm        = glodapdir + 'TCO2.nc'\n",
    "\n",
    "glodap = {}\n",
    "glodap['S'] = xr.open_dataset(salinityFnm)\n",
    "glodap['T'] = xr.open_dataset(temperatureFnm)\n",
    "glodap['O'] = xr.open_dataset(oxygenFnm)\n",
    "glodap['N'] = xr.open_dataset(NO3Fnm)\n",
    "glodap['R'] = xr.open_dataset(TCO2Fnm)"
   ]
  },
  {
   "cell_type": "code",
   "execution_count": 6,
   "id": "65c5c36d-adce-4927-86ec-1be1701747b3",
   "metadata": {
    "tags": []
   },
   "outputs": [
    {
     "name": "stdout",
     "output_type": "stream",
     "text": [
      "S\n",
      "T\n",
      "O\n",
      "N\n",
      "R\n"
     ]
    }
   ],
   "source": [
    "for ds in glodap: print(ds)\n",
    "\n",
    "# should print S T O N R respectively Salinity, Temperature, Oxygen, Nitrate, CO2"
   ]
  },
  {
   "cell_type": "code",
   "execution_count": 7,
   "id": "7b797f19-97f6-4d47-a936-d589573e862e",
   "metadata": {
    "tags": []
   },
   "outputs": [
    {
     "data": {
      "application/vnd.jupyter.widget-view+json": {
       "model_id": "f63684969548489390873b58d58a1795",
       "version_major": 2,
       "version_minor": 0
      },
      "text/plain": [
       "interactive(children=(IntSlider(value=0, continuous_update=False, description='O depth', max=32), Output()), _…"
      ]
     },
     "metadata": {},
     "output_type": "display_data"
    },
    {
     "data": {
      "text/plain": [
       "<function __main__.oxygen(depth_index)>"
      ]
     },
     "execution_count": 7,
     "metadata": {},
     "output_type": "execute_result"
    }
   ],
   "source": [
    "def oxygen(depth_index):\n",
    "    glodap['O']['oxygen'].sel(depth_surface = depth_index).plot(figsize=(11, 7),cmap='viridis',vmin=150, vmax=350)         # original: cmocean.cm.oxy\n",
    "    plt.ylabel(None); plt.xlabel(None)\n",
    "    if depth_index == 0: msg = 'This is for surface water'\n",
    "    else:                msg = 'This is for water at ' + str(int(glodap['O']['Depth'].values[depth_index])) + ' meters depth'\n",
    "    plt.text(25, -87, msg); plt.text(28, 50, 'oxygen dissolved in'); plt.text(28, 42, '     ocean water   ')\n",
    "\n",
    "interact(oxygen, depth_index=widgets.IntSlider(min=0, max=32, step=1, value=0, continuous_update=False, description='O depth'))"
   ]
  },
  {
   "cell_type": "code",
   "execution_count": 8,
   "id": "d4658613-6904-4013-b22c-01239d5c4d97",
   "metadata": {
    "tags": []
   },
   "outputs": [
    {
     "data": {
      "application/vnd.jupyter.widget-view+json": {
       "model_id": "cba328035f644a14b71caf8186ac4dac",
       "version_major": 2,
       "version_minor": 0
      },
      "text/plain": [
       "interactive(children=(IntSlider(value=0, continuous_update=False, description='O depth', max=32), Output()), _…"
      ]
     },
     "metadata": {},
     "output_type": "display_data"
    },
    {
     "data": {
      "application/vnd.jupyter.widget-view+json": {
       "model_id": "4505edc71c0746119d0e454a3bdb61ff",
       "version_major": 2,
       "version_minor": 0
      },
      "text/plain": [
       "interactive(children=(IntSlider(value=0, continuous_update=False, description='S depth', max=32), Output()), _…"
      ]
     },
     "metadata": {},
     "output_type": "display_data"
    },
    {
     "data": {
      "application/vnd.jupyter.widget-view+json": {
       "model_id": "4475692883d248e6b19d8ca0496991fe",
       "version_major": 2,
       "version_minor": 0
      },
      "text/plain": [
       "interactive(children=(IntSlider(value=0, continuous_update=False, description='T depth', max=32), Output()), _…"
      ]
     },
     "metadata": {},
     "output_type": "display_data"
    },
    {
     "data": {
      "application/vnd.jupyter.widget-view+json": {
       "model_id": "84122a3b0a764daea3205bc125e7f627",
       "version_major": 2,
       "version_minor": 0
      },
      "text/plain": [
       "interactive(children=(IntSlider(value=0, continuous_update=False, description='NO3 depth', max=32), Output()),…"
      ]
     },
     "metadata": {},
     "output_type": "display_data"
    },
    {
     "data": {
      "application/vnd.jupyter.widget-view+json": {
       "model_id": "92a5eb76280f4615b2a08e0cbc4a88f8",
       "version_major": 2,
       "version_minor": 0
      },
      "text/plain": [
       "interactive(children=(IntSlider(value=0, continuous_update=False, description='CO2 depth', max=32), Output()),…"
      ]
     },
     "metadata": {},
     "output_type": "display_data"
    },
    {
     "data": {
      "text/plain": [
       "<function __main__.carbonate(depth_index)>"
      ]
     },
     "execution_count": 8,
     "metadata": {},
     "output_type": "execute_result"
    }
   ],
   "source": [
    "plt.rcParams.update({'font.size': 16})\n",
    "\n",
    "# return to cmocean.cm.oxy, haline, thermal, algae, delta\n",
    "\n",
    "def oxygen(depth_index):\n",
    "    glodap['O']['oxygen'].sel(depth_surface = depth_index).plot(figsize=(11, 7),cmap='viridis', vmin=150, vmax=350)\n",
    "    plt.ylabel(None); plt.xlabel(None)\n",
    "    if depth_index == 0: msg = 'This is for surface water'\n",
    "    else:                msg = 'This is for water at ' + str(int(glodap['O']['Depth'].values[depth_index])) + ' meters depth'\n",
    "    plt.text(25, -87, msg); plt.text(28, 50, 'oxygen dissolved in'); plt.text(28, 42, '     ocean water   ')\n",
    "\n",
    "def salinity(depth_index):\n",
    "    glodap['S']['salinity'].sel(depth_surface = depth_index).plot(figsize=(11, 7),cmap='plasma',vmin=33, vmax=36)\n",
    "    plt.ylabel(None); plt.xlabel(None)\n",
    "    if depth_index == 0: msg = 'This is for surface water'\n",
    "    else:                msg = 'This is for water at ' + str(int(glodap['S']['Depth'].values[depth_index])) + ' meters depth'\n",
    "    plt.text(25, -87, msg); plt.text(47, 50, 'salinity of'); plt.text(47, 42, 'ocean water')\n",
    "\n",
    "def temperature(depth_index):\n",
    "    glodap['T']['temperature'].sel(depth_surface = depth_index).plot(figsize=(11, 7),cmap='inferno',vmin=2., vmax=12.)\n",
    "    plt.ylabel(None); plt.xlabel(None)\n",
    "    if depth_index == 0: msg = 'This is for surface water'\n",
    "    else:                msg = 'This is for water at ' + str(int(glodap['T']['Depth'].values[depth_index])) + ' meters depth'\n",
    "    plt.text(25, -87, msg); plt.text(47, 50, 'temperature of'); plt.text(47, 42, 'ocean water')\n",
    "    \n",
    "def nitrate(depth_index):\n",
    "    glodap['N']['NO3'].sel(depth_surface = depth_index).plot(figsize=(11, 7),cmap='magma', vmin=2., vmax=40.)\n",
    "    plt.ylabel(None); plt.xlabel(None)\n",
    "    if depth_index == 0: msg = 'This is for surface water'\n",
    "    else:                msg = 'This is for water at ' + str(int(glodap['N']['Depth'].values[depth_index])) + ' meters depth'\n",
    "    plt.text(25, -87, msg); plt.text(47, 50, 'nitrate in'); plt.text(47, 42, 'ocean water')\n",
    "\n",
    "def carbonate(depth_index):\n",
    "    glodap['R']['TCO2'].sel(depth_surface = depth_index).plot(figsize=(11, 7), cmap='cividis', vmin=2000., vmax=2500.)\n",
    "    plt.ylabel(None); plt.xlabel(None)\n",
    "    if depth_index == 0: msg = 'This is for surface water'\n",
    "    else:                msg = 'This is for water at ' + str(int(glodap['R']['Depth'].values[depth_index])) + ' meters depth'\n",
    "    plt.text(25, -87, msg); plt.text(47, 50, 'carbon dioxide in'); plt.text(47, 42, 'ocean water')\n",
    "\n",
    "interact(oxygen,      depth_index=widgets.IntSlider(min=0, max=32, step=1, value=0, continuous_update=False, description='O depth'))\n",
    "interact(salinity,    depth_index=widgets.IntSlider(min=0, max=32, step=1, value=0, continuous_update=False, description='S depth'))\n",
    "interact(temperature, depth_index=widgets.IntSlider(min=0, max=32, step=1, value=0, continuous_update=False, description='T depth'))\n",
    "interact(nitrate,     depth_index=widgets.IntSlider(min=0, max=32, step=1, value=0, continuous_update=False, description='NO3 depth'))\n",
    "interact(carbonate,   depth_index=widgets.IntSlider(min=0, max=32, step=1, value=0, continuous_update=False, description='CO2 depth'))"
   ]
  },
  {
   "cell_type": "markdown",
   "id": "a45d9483-2116-4790-a385-e79eb3614627",
   "metadata": {},
   "source": [
    "## Set the slider above to 28"
   ]
  },
  {
   "cell_type": "markdown",
   "id": "c0421e89-7f9f-4653-ad9c-44c5f513f76c",
   "metadata": {},
   "source": [
    "Compare with the mid-ocean ridges shown here.\n",
    "\n",
    "\n",
    "<BR>\n",
    "<img src=\"../images/maps/lithosphere_age.png\" style=\"float: left;\" alt=\"drawing\" width=\"1000\"/>\n",
    "<div style=\"clear: left\"><BR>"
   ]
  }
 ],
 "metadata": {
  "kernelspec": {
   "display_name": "Python 3 (ipykernel)",
   "language": "python",
   "name": "python3"
  },
  "language_info": {
   "codemirror_mode": {
    "name": "ipython",
    "version": 3
   },
   "file_extension": ".py",
   "mimetype": "text/x-python",
   "name": "python",
   "nbconvert_exporter": "python",
   "pygments_lexer": "ipython3",
   "version": "3.8.5"
  }
 },
 "nbformat": 4,
 "nbformat_minor": 5
}
