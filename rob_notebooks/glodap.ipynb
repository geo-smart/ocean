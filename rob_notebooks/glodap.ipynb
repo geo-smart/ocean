{
 "cells": [
  {
   "cell_type": "markdown",
   "id": "259d73f3-c7e8-4a0a-9fbb-6af94369bbcb",
   "metadata": {},
   "source": [
    "## Global Ocean Data Analysis Project\n",
    "\n",
    "\n",
    "This notebook is a viewer: Five types of data organized as depth-sorted layers of the global ocean. Data are downloaded from the web by this notebook to keep the repository size\n",
    "manageable. See the **Programming Resources** notebook on reducing glodap data file size.\n",
    "\n",
    "\n",
    "The [GLODAP](https://en.wikipedia.org/wiki/Global_Ocean_Data_Analysis_Project) \n",
    "global ocean dataset compiles several decades of observation. It is a 'geological instant' snapshot of\n",
    "the state of the entire ocean, albeit downsampled a bit.\n",
    "\n",
    "\n",
    "Moving the sliders for each chart selects for depth, as shown at the bottom left.\n",
    "\n",
    "\n",
    "To do\n",
    "\n",
    "\n",
    "- GLODAP data used here is the 2016 version; 2021 v2 available\n",
    "- Color map cmocean can be installed and used \n",
    "\n",
    "\n",
    "The cell below imports data from the internet. This data load-in helps keep the repository itself reasonably small.\n",
    "It typically takes up to two minutes to complete."
   ]
  },
  {
   "cell_type": "code",
   "execution_count": 19,
   "id": "6a8d26f4-de4e-4a9e-9e6c-9310cad38ee0",
   "metadata": {
    "tags": []
   },
   "outputs": [],
   "source": [
    "'''\n",
    "!mkdir glodap\n",
    "!wget -q https://kilroybackup.s3.us-west-2.amazonaws.com/glodap/NO3.nc -O glodap/NO3.nc\n",
    "!wget -q https://kilroybackup.s3.us-west-2.amazonaws.com/glodap/TCO2.nc -O glodap/TCO2.nc\n",
    "!wget -q https://kilroybackup.s3.us-west-2.amazonaws.com/glodap/oxygen.nc -O glodap/oxygen.nc\n",
    "!wget -q https://kilroybackup.s3.us-west-2.amazonaws.com/glodap/salinity.nc -O glodap/salinity.nc\n",
    "!wget -q https://kilroybackup.s3.us-west-2.amazonaws.com/glodap/temperature.nc -O glodap/temperature.nc\n",
    "'''\n",
    "\n",
    "glodapdir = '../../../data/ocean/glodap/'         # this is a location outside of the repository"
   ]
  },
  {
   "cell_type": "markdown",
   "id": "4f4e2ccc-2019-4020-8dc4-51b4c32fe365",
   "metadata": {
    "tags": []
   },
   "source": [
    "#### Artifact imports etcetera\n",
    "\n",
    "\n",
    "These are for reference; once everything is working this should be deleted\n",
    "\n",
    "\n",
    "```\n",
    "import os, sys, time, glob, warnings, cmocean\n",
    "from IPython.display import clear_output\n",
    "warnings.filterwarnings('ignore')\n",
    "this_dir = os.getcwd()  \n",
    "\n",
    "from matplotlib import animation, rc\n",
    "from numpy import datetime64 as dt64, timedelta64 as td64\n",
    "```"
   ]
  },
  {
   "cell_type": "code",
   "execution_count": 21,
   "id": "29f3ed52-36f9-46d7-a067-e4bb288a8356",
   "metadata": {
    "tags": []
   },
   "outputs": [],
   "source": [
    "# need to install and import cmocean\n",
    "\n",
    "from matplotlib import pyplot as plt, colors as mplcolors\n",
    "import numpy as np, pandas as pd, xarray as xr\n",
    "from ipywidgets import *\n",
    "from traitlets import dlink"
   ]
  },
  {
   "cell_type": "code",
   "execution_count": 13,
   "id": "1baad57b-257a-4372-817e-e41f5e6e392b",
   "metadata": {
    "tags": []
   },
   "outputs": [],
   "source": [
    "temperatureFnm = glodapdir + 'temperature.nc'\n",
    "salinityFnm    = glodapdir + 'salinity.nc'\n",
    "oxygenFnm      = glodapdir + 'oxygen.nc'\n",
    "NO3Fnm         = glodapdir + 'NO3.nc'\n",
    "TCO2Fnm        = glodapdir + 'TCO2.nc'\n",
    "\n",
    "glodap = {}\n",
    "glodap['S'] = xr.open_dataset(salinityFnm)\n",
    "glodap['T'] = xr.open_dataset(temperatureFnm)\n",
    "glodap['O'] = xr.open_dataset(oxygenFnm)\n",
    "glodap['N'] = xr.open_dataset(NO3Fnm)\n",
    "glodap['R'] = xr.open_dataset(TCO2Fnm)"
   ]
  },
  {
   "cell_type": "code",
   "execution_count": 8,
   "id": "65c5c36d-adce-4927-86ec-1be1701747b3",
   "metadata": {
    "tags": []
   },
   "outputs": [
    {
     "name": "stdout",
     "output_type": "stream",
     "text": [
      "S\n",
      "T\n",
      "O\n",
      "N\n",
      "R\n"
     ]
    }
   ],
   "source": [
    "for ds in glodap: print(ds)"
   ]
  },
  {
   "cell_type": "code",
   "execution_count": 15,
   "id": "7b797f19-97f6-4d47-a936-d589573e862e",
   "metadata": {
    "tags": []
   },
   "outputs": [
    {
     "data": {
      "application/vnd.jupyter.widget-view+json": {
       "model_id": "b9e63b9386ec4ad68e2097c04058a1bf",
       "version_major": 2,
       "version_minor": 0
      },
      "text/plain": [
       "interactive(children=(IntSlider(value=0, continuous_update=False, description='O depth', max=32), Output()), _…"
      ]
     },
     "metadata": {},
     "output_type": "display_data"
    },
    {
     "data": {
      "text/plain": [
       "<function __main__.oxygen(depth_index)>"
      ]
     },
     "execution_count": 15,
     "metadata": {},
     "output_type": "execute_result"
    }
   ],
   "source": [
    "def oxygen(depth_index):\n",
    "    glodap['O']['oxygen'].sel(depth_surface = depth_index).plot(figsize=(11, 7),cmap='viridis',vmin=150, vmax=350)         # original: cmocean.cm.oxy\n",
    "    plt.ylabel(None); plt.xlabel(None)\n",
    "    if depth_index == 0: msg = 'This is for surface water'\n",
    "    else:                msg = 'This is for water at ' + str(int(glodap['O']['Depth'].values[depth_index])) + ' meters depth'\n",
    "    plt.text(25, -87, msg); plt.text(28, 50, 'oxygen dissolved in'); plt.text(28, 42, '     ocean water   ')\n",
    "\n",
    "interact(oxygen, depth_index=widgets.IntSlider(min=0, max=32, step=1, value=0, continuous_update=False, description='O depth'))"
   ]
  },
  {
   "cell_type": "code",
   "execution_count": 18,
   "id": "d4658613-6904-4013-b22c-01239d5c4d97",
   "metadata": {
    "tags": []
   },
   "outputs": [
    {
     "data": {
      "application/vnd.jupyter.widget-view+json": {
       "model_id": "d248f9ff11bd452ab7cd50c89a8c5c23",
       "version_major": 2,
       "version_minor": 0
      },
      "text/plain": [
       "interactive(children=(IntSlider(value=0, continuous_update=False, description='O depth', max=32), Output()), _…"
      ]
     },
     "metadata": {},
     "output_type": "display_data"
    },
    {
     "data": {
      "application/vnd.jupyter.widget-view+json": {
       "model_id": "21f2436f56f4441498b5fce5d6cfe1cb",
       "version_major": 2,
       "version_minor": 0
      },
      "text/plain": [
       "interactive(children=(IntSlider(value=0, continuous_update=False, description='S depth', max=32), Output()), _…"
      ]
     },
     "metadata": {},
     "output_type": "display_data"
    },
    {
     "data": {
      "application/vnd.jupyter.widget-view+json": {
       "model_id": "a4db055361c64cf887a896c159928b57",
       "version_major": 2,
       "version_minor": 0
      },
      "text/plain": [
       "interactive(children=(IntSlider(value=0, continuous_update=False, description='T depth', max=32), Output()), _…"
      ]
     },
     "metadata": {},
     "output_type": "display_data"
    },
    {
     "data": {
      "application/vnd.jupyter.widget-view+json": {
       "model_id": "57a8b94e8fa14af99c5200c3d1c854b1",
       "version_major": 2,
       "version_minor": 0
      },
      "text/plain": [
       "interactive(children=(IntSlider(value=0, continuous_update=False, description='NO3 depth', max=32), Output()),…"
      ]
     },
     "metadata": {},
     "output_type": "display_data"
    },
    {
     "data": {
      "application/vnd.jupyter.widget-view+json": {
       "model_id": "473daab5fd744a8ebc2d706bd312adb5",
       "version_major": 2,
       "version_minor": 0
      },
      "text/plain": [
       "interactive(children=(IntSlider(value=0, continuous_update=False, description='CO2 depth', max=32), Output()),…"
      ]
     },
     "metadata": {},
     "output_type": "display_data"
    },
    {
     "data": {
      "text/plain": [
       "<function __main__.carbonate(depth_index)>"
      ]
     },
     "execution_count": 18,
     "metadata": {},
     "output_type": "execute_result"
    }
   ],
   "source": [
    "plt.rcParams.update({'font.size': 16})\n",
    "\n",
    "# return to cmocean.cm.oxy, haline, thermal, algae, delta\n",
    "\n",
    "def oxygen(depth_index):\n",
    "    glodap['O']['oxygen'].sel(depth_surface = depth_index).plot(figsize=(11, 7),cmap='viridis', vmin=150, vmax=350)\n",
    "    plt.ylabel(None); plt.xlabel(None)\n",
    "    if depth_index == 0: msg = 'This is for surface water'\n",
    "    else:                msg = 'This is for water at ' + str(int(glodap['O']['Depth'].values[depth_index])) + ' meters depth'\n",
    "    plt.text(25, -87, msg); plt.text(28, 50, 'oxygen dissolved in'); plt.text(28, 42, '     ocean water   ')\n",
    "\n",
    "def salinity(depth_index):\n",
    "    glodap['S']['salinity'].sel(depth_surface = depth_index).plot(figsize=(11, 7),cmap='plasma',vmin=33, vmax=36)\n",
    "    plt.ylabel(None); plt.xlabel(None)\n",
    "    if depth_index == 0: msg = 'This is for surface water'\n",
    "    else:                msg = 'This is for water at ' + str(int(glodap['S']['Depth'].values[depth_index])) + ' meters depth'\n",
    "    plt.text(25, -87, msg); plt.text(47, 50, 'salinity of'); plt.text(47, 42, 'ocean water')\n",
    "\n",
    "def temperature(depth_index):\n",
    "    glodap['T']['temperature'].sel(depth_surface = depth_index).plot(figsize=(11, 7),cmap='inferno',vmin=2., vmax=12.)\n",
    "    plt.ylabel(None); plt.xlabel(None)\n",
    "    if depth_index == 0: msg = 'This is for surface water'\n",
    "    else:                msg = 'This is for water at ' + str(int(glodap['T']['Depth'].values[depth_index])) + ' meters depth'\n",
    "    plt.text(25, -87, msg); plt.text(47, 50, 'temperature of'); plt.text(47, 42, 'ocean water')\n",
    "    \n",
    "def nitrate(depth_index):\n",
    "    glodap['N']['NO3'].sel(depth_surface = depth_index).plot(figsize=(11, 7),cmap='magma', vmin=2., vmax=40.)\n",
    "    plt.ylabel(None); plt.xlabel(None)\n",
    "    if depth_index == 0: msg = 'This is for surface water'\n",
    "    else:                msg = 'This is for water at ' + str(int(glodap['N']['Depth'].values[depth_index])) + ' meters depth'\n",
    "    plt.text(25, -87, msg); plt.text(47, 50, 'nitrate in'); plt.text(47, 42, 'ocean water')\n",
    "\n",
    "def carbonate(depth_index):\n",
    "    glodap['R']['TCO2'].sel(depth_surface = depth_index).plot(figsize=(11, 7), cmap='cividis', vmin=2000., vmax=2500.)\n",
    "    plt.ylabel(None); plt.xlabel(None)\n",
    "    if depth_index == 0: msg = 'This is for surface water'\n",
    "    else:                msg = 'This is for water at ' + str(int(glodap['R']['Depth'].values[depth_index])) + ' meters depth'\n",
    "    plt.text(25, -87, msg); plt.text(47, 50, 'carbon dioxide in'); plt.text(47, 42, 'ocean water')\n",
    "\n",
    "interact(oxygen,      depth_index=widgets.IntSlider(min=0, max=32, step=1, value=0, continuous_update=False, description='O depth'))\n",
    "interact(salinity,    depth_index=widgets.IntSlider(min=0, max=32, step=1, value=0, continuous_update=False, description='S depth'))\n",
    "interact(temperature, depth_index=widgets.IntSlider(min=0, max=32, step=1, value=0, continuous_update=False, description='T depth'))\n",
    "interact(nitrate,     depth_index=widgets.IntSlider(min=0, max=32, step=1, value=0, continuous_update=False, description='NO3 depth'))\n",
    "interact(carbonate,   depth_index=widgets.IntSlider(min=0, max=32, step=1, value=0, continuous_update=False, description='CO2 depth'))"
   ]
  },
  {
   "cell_type": "markdown",
   "id": "a45d9483-2116-4790-a385-e79eb3614627",
   "metadata": {},
   "source": [
    "## Set the slider above to 28"
   ]
  },
  {
   "cell_type": "markdown",
   "id": "c0421e89-7f9f-4653-ad9c-44c5f513f76c",
   "metadata": {},
   "source": [
    "Compare with the mid-ocean ridges shown here.\n",
    "\n",
    "\n",
    "<BR>\n",
    "<img src=\"../images/maps/lithosphere_age.png\" style=\"float: left;\" alt=\"drawing\" width=\"1000\"/>\n",
    "<div style=\"clear: left\"><BR>"
   ]
  },
  {
   "cell_type": "code",
   "execution_count": null,
   "id": "56307688-c31a-419d-b47e-e130b57ee030",
   "metadata": {},
   "outputs": [],
   "source": []
  }
 ],
 "metadata": {
  "kernelspec": {
   "display_name": "Python 3 (ipykernel)",
   "language": "python",
   "name": "python3"
  },
  "language_info": {
   "codemirror_mode": {
    "name": "ipython",
    "version": 3
   },
   "file_extension": ".py",
   "mimetype": "text/x-python",
   "name": "python",
   "nbconvert_exporter": "python",
   "pygments_lexer": "ipython3",
   "version": "3.11.4"
  }
 },
 "nbformat": 4,
 "nbformat_minor": 5
}
