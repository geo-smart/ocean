{
 "cells": [
  {
   "cell_type": "markdown",
   "id": "d13488d9-9ee4-4fc6-a58b-cb0802180b9d",
   "metadata": {},
   "source": [
    "## Coastal Pioneer Array (abbreviated CPA): Gliders\n",
    "\n",
    "\n",
    "From the [OOI Data Explorer](httsp://dataexplorer.oceanobservatories.org) I received a dataset from Coastal Pioneer Array gliders.\n",
    "Gliders are designated by three-digit numbers: 380, 376, 379, 388, 339; and others. The presentation of the data is somewhat\n",
    "uneven as of this writing (June 2022) where the time range of a dataset / deployment can be read from the thumbnail curtain plot\n",
    "and the location is TBD. \n",
    "\n",
    "\n",
    "<BR>\n",
    "<img src=\"../Images/cpa/coastal_pioneer_array_context.png\" style=\"float: left;\" alt=\"drawing\" width=\"400\"/>\n",
    "<div style=\"clear: left\"><BR>\n",
    "    \n",
    "    \n",
    "Coastal Pioneer Array (CPA) geographic context\n",
    "    \n",
    "    \n",
    "<BR>\n",
    "<img src=\"../Images/cpa/coastal_pioneer_array_seaboard.png\" style=\"float: left;\" alt=\"drawing\" width=\"400\"/>\n",
    "<div style=\"clear: left\"><BR>\n",
    "    \n",
    "    \n",
    "CPA eastern seaboard geographic context\n",
    "    \n",
    "    \n",
    "\n",
    "<BR>\n",
    "<img src=\"../Images/cpa/coastal_pioneer_array_shelf.png\" style=\"float: left;\" alt=\"drawing\" width=\"400\"/>\n",
    "<div style=\"clear: left\"><BR>\n",
    "    \n",
    "    \n",
    "CPA shelf context; glider track not indicated.\n",
    "    \n",
    "    \n",
    "\n",
    "<BR>\n",
    "<img src=\"../Images/cpa/coastal_pioneer_array_thumbnail_with_clipping.png\" style=\"float: left;\" alt=\"drawing\" width=\"400\"/>\n",
    "<div style=\"clear: left\"><BR>\n",
    "    \n",
    "    \n",
    "CPA glider browse feature; with data clipping.\n",
    "    \n",
    "    \n",
    "The Downloads button provides the complete multi-sensor dataset (with qartod flags) in several formats including CSV: For the given time range.\n",
    "In many cases a thumbnail is not available so the time range is obscure. Data files appear to span two months or so; and can be considerably\n",
    "compressed by discarding extraneous columns.\n",
    "    \n",
    "\n",
    "Moving to the **Glider and Cruise Selector** tab: Using the cursor on the timeline shows the glider location and explains the uneven\n",
    "depth profile of the curtain plot: The glider depth reflects bathymetry. The map is zoomable and this improves the spatial resolution\n",
    "of the glider location: Again only where previews are available. The time chart endpoints are movable to constrain time range. Glider\n",
    "paths seem very ad hoc. \n",
    "\n",
    "    \n",
    "    \n",
    "First objective: Reproduce the curtain plots shown in the file browser. \n",
    "    \n",
    "\n",
    "    \n",
    "    \n"
   ]
  },
  {
   "cell_type": "code",
   "execution_count": null,
   "id": "9a8a0754-5c65-4724-8e7f-4ba3e2b095ea",
   "metadata": {},
   "outputs": [],
   "source": [
    "d="
   ]
  }
 ],
 "metadata": {
  "kernelspec": {
   "display_name": "Python 3 (ipykernel)",
   "language": "python",
   "name": "python3"
  },
  "language_info": {
   "codemirror_mode": {
    "name": "ipython",
    "version": 3
   },
   "file_extension": ".py",
   "mimetype": "text/x-python",
   "name": "python",
   "nbconvert_exporter": "python",
   "pygments_lexer": "ipython3",
   "version": "3.8.5"
  }
 },
 "nbformat": 4,
 "nbformat_minor": 5
}
